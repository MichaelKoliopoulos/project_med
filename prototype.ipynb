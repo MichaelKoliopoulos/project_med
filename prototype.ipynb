{
 "cells": [
  {
   "cell_type": "code",
   "execution_count": 8,
   "metadata": {},
   "outputs": [
    {
     "name": "stdout",
     "output_type": "stream",
     "text": [
      "✅ Models initialized successfully!\n",
      "Chat Model: hf.co/lmstudio-community/medgemma-4b-it-GGUF:Q4_K_M\n",
      "Embedding Model: nomic-embed-text:latest\n"
     ]
    }
   ],
   "source": [
    "from langchain_ollama.chat_models import ChatOllama\n",
    "from langchain_ollama.embeddings import OllamaEmbeddings\n",
    "\n",
    "# Initialize the chat model\n",
    "# It will automatically connect to your local Ollama instance\n",
    "llm = ChatOllama(\n",
    "    model=\"hf.co/lmstudio-community/medgemma-4b-it-GGUF:Q4_K_M\",\n",
    "    temperature= 0.2,\n",
    "    repeat_penalty= 1.1\n",
    "    )\n",
    "\n",
    "# Initialize the embedding model\n",
    "embeddings = OllamaEmbeddings(model=\"nomic-embed-text:latest\",\n",
    "                              )\n",
    "\n",
    "print(\"✅ Models initialized successfully!\")\n",
    "print(f\"Chat Model: {llm.model}\")\n",
    "print(f\"Embedding Model: {embeddings.model}\")"
   ]
  },
  {
   "cell_type": "code",
   "execution_count": 10,
   "metadata": {},
   "outputs": [
    {
     "name": "stdout",
     "output_type": "stream",
     "text": [
      "\n",
      "--- Testing Chat Model ---\n",
      "The main symptoms of type 2 diabetes can develop slowly, and some people may not experience any noticeable symptoms for a long time. This is why regular checkups are important, especially if you have risk factors. Here are the most common symptoms:\n",
      "\n",
      "*   **Increased thirst (polydipsia):** Feeling constantly thirsty, even after drinking.\n",
      "*   **Frequent urination (polyuria):** Needing to urinate more often than usual, especially at night.\n",
      "*   **Increased hunger (polyphagia):** Feeling hungry more often than usual.\n",
      "*   **Unexplained weight loss:** Losing weight without trying.\n",
      "*   **Fatigue:** Feeling tired and weak.\n",
      "*   **Blurred vision:** Difficulty focusing.\n",
      "*   **Slow-healing sores:** Cuts and bruises that take longer to heal.\n",
      "*   **Frequent infections:** Increased susceptibility to infections, such as skin infections, urinary tract infections, and yeast infections.\n",
      "*   **Numbness or tingling in the hands or feet (peripheral neuropathy):** This can cause pain, burning, or a pins-and-needles sensation.\n",
      "*   **Darkened areas of skin, usually in the armpits and neck (acanthosis nigricans):** This is a sign of insulin resistance.\n",
      "\n",
      "It's important to note that not everyone with type 2 diabetes will experience all of these symptoms. Some people may have only a few mild symptoms, while others may have more severe symptoms.\n",
      "\n",
      "If you experience any of these symptoms, it's important to see a doctor for diagnosis and treatment. Early diagnosis and management of type 2 diabetes can help prevent serious complications.\n"
     ]
    }
   ],
   "source": [
    "# Let's test the chat model with a simple medical-related question\n",
    "prompt = \"What are the main symptoms of diabetes type 2?\"\n",
    "\n",
    "print(\"\\n--- Testing Chat Model ---\")\n",
    "for chunk in llm.stream(prompt):\n",
    "    print(chunk.content, end='', flush=True)\n",
    "print()  # Add a newline at the end"
   ]
  },
  {
   "cell_type": "code",
   "execution_count": 7,
   "metadata": {},
   "outputs": [
    {
     "name": "stdout",
     "output_type": "stream",
     "text": [
      "\n",
      "--- Testing Embedding Model ---\n",
      "Embedding vector (first 5 dimensions): [0.021343963, 0.05919955, -0.18243429, -0.03533181, -0.01223073]\n",
      "Embedding vector dimension: 768\n"
     ]
    }
   ],
   "source": [
    "# Let's test the embedding model\n",
    "text_to_embed = \"The patient reported experiencing increased thirst and frequent urination.\"\n",
    "\n",
    "print(\"\\n--- Testing Embedding Model ---\")\n",
    "vector_embedding = embeddings.embed_query(text_to_embed)\n",
    "\n",
    "# We can print the first few dimensions to verify it's working\n",
    "print(f\"Embedding vector (first 5 dimensions): {vector_embedding[:5]}\")\n",
    "print(f\"Embedding vector dimension: {len(vector_embedding)}\")"
   ]
  },
  {
   "cell_type": "code",
   "execution_count": null,
   "metadata": {},
   "outputs": [],
   "source": []
  }
 ],
 "metadata": {
  "kernelspec": {
   "display_name": ".venv",
   "language": "python",
   "name": "python3"
  },
  "language_info": {
   "codemirror_mode": {
    "name": "ipython",
    "version": 3
   },
   "file_extension": ".py",
   "mimetype": "text/x-python",
   "name": "python",
   "nbconvert_exporter": "python",
   "pygments_lexer": "ipython3",
   "version": "3.12.10"
  }
 },
 "nbformat": 4,
 "nbformat_minor": 2
}
